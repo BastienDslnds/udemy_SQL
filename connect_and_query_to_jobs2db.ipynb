{
 "cells": [
  {
   "cell_type": "code",
   "execution_count": 1,
   "id": "b78b133b",
   "metadata": {},
   "outputs": [],
   "source": [
    "import sqlite3\n",
    "connexion_to_jobs2db = sqlite3.connect('jobs.db/jobs2.db')"
   ]
  },
  {
   "cell_type": "code",
   "execution_count": 2,
   "id": "78a5620f",
   "metadata": {},
   "outputs": [],
   "source": [
    "cursor = connexion_to_jobs2db.cursor()"
   ]
  },
  {
   "cell_type": "code",
   "execution_count": 3,
   "id": "7b59c8b0",
   "metadata": {},
   "outputs": [],
   "source": [
    "query = \"select Major from recent_grads order by Major asc\""
   ]
  },
  {
   "cell_type": "code",
   "execution_count": 4,
   "id": "5c3d9e1c",
   "metadata": {},
   "outputs": [],
   "source": [
    "results = cursor.execute(query).fetchall()"
   ]
  },
  {
   "cell_type": "code",
   "execution_count": 5,
   "id": "d37401d9",
   "metadata": {},
   "outputs": [
    {
     "name": "stdout",
     "output_type": "stream",
     "text": [
      "[('ACCOUNTING',), ('ACTUARIAL SCIENCE',), ('ADVERTISING AND PUBLIC RELATIONS',)]\n"
     ]
    }
   ],
   "source": [
    "print(results[:3])"
   ]
  },
  {
   "cell_type": "code",
   "execution_count": 6,
   "id": "620fbd90",
   "metadata": {},
   "outputs": [],
   "source": [
    "connexion_to_jobs2db.close()"
   ]
  },
  {
   "cell_type": "code",
   "execution_count": null,
   "id": "44002bb8",
   "metadata": {},
   "outputs": [],
   "source": []
  }
 ],
 "metadata": {
  "kernelspec": {
   "display_name": "Python 3",
   "language": "python",
   "name": "python3"
  },
  "language_info": {
   "codemirror_mode": {
    "name": "ipython",
    "version": 3
   },
   "file_extension": ".py",
   "mimetype": "text/x-python",
   "name": "python",
   "nbconvert_exporter": "python",
   "pygments_lexer": "ipython3",
   "version": "3.8.8"
  }
 },
 "nbformat": 4,
 "nbformat_minor": 5
}
