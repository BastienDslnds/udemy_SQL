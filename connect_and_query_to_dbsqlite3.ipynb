{
 "cells": [
  {
   "cell_type": "markdown",
   "id": "655f3691",
   "metadata": {},
   "source": [
    "Connexion à la base de données"
   ]
  },
  {
   "cell_type": "code",
   "execution_count": 1,
   "id": "51005f3a",
   "metadata": {},
   "outputs": [],
   "source": [
    "import sqlite3"
   ]
  },
  {
   "cell_type": "code",
   "execution_count": 4,
   "id": "ec6b6eb7",
   "metadata": {},
   "outputs": [],
   "source": [
    "connexion = sqlite3.connect('jobs.db/jobs.db')"
   ]
  },
  {
   "cell_type": "markdown",
   "id": "bb1363b1",
   "metadata": {},
   "source": [
    "Créer un curseur et exécuter une requête SQL"
   ]
  },
  {
   "cell_type": "code",
   "execution_count": 5,
   "id": "6bff08dc",
   "metadata": {},
   "outputs": [],
   "source": [
    "cursor = connexion.cursor()"
   ]
  },
  {
   "cell_type": "code",
   "execution_count": 6,
   "id": "aaf31306",
   "metadata": {},
   "outputs": [
    {
     "name": "stdout",
     "output_type": "stream",
     "text": [
      "<sqlite3.Cursor object at 0x000001707B09F810>\n"
     ]
    }
   ],
   "source": [
    "print(cursor)"
   ]
  },
  {
   "cell_type": "code",
   "execution_count": 7,
   "id": "b4bf3123",
   "metadata": {},
   "outputs": [],
   "source": [
    "# requête SQL qu'on assigne à une variable Query en tant que chaîne de caractère\n",
    "query = \"select * from recent_grads;\""
   ]
  },
  {
   "cell_type": "code",
   "execution_count": 10,
   "id": "0ee24ce7",
   "metadata": {},
   "outputs": [
    {
     "data": {
      "text/plain": [
       "<sqlite3.Cursor at 0x1707b09f810>"
      ]
     },
     "execution_count": 10,
     "metadata": {},
     "output_type": "execute_result"
    }
   ],
   "source": [
    "# Exécuter la requête située dans la variable Query / Ce cursor convertit le résultat en tuple\n",
    "cursor.execute(query)"
   ]
  },
  {
   "cell_type": "code",
   "execution_count": 11,
   "id": "7347bf63",
   "metadata": {},
   "outputs": [],
   "source": [
    "results = cursor.fetchall()"
   ]
  },
  {
   "cell_type": "markdown",
   "id": "89be464d",
   "metadata": {},
   "source": [
    "Ecrire une requête qui retourne toutes les valeurs de la colonne Major\n",
    "Stocker les résultats dans une variable majors\n",
    "Afficher les 5 premiers tuples"
   ]
  },
  {
   "cell_type": "code",
   "execution_count": 13,
   "id": "8e1082dc",
   "metadata": {},
   "outputs": [],
   "source": [
    "query_majors = \"select major from recent_grads\""
   ]
  },
  {
   "cell_type": "code",
   "execution_count": 20,
   "id": "965c1063",
   "metadata": {},
   "outputs": [
    {
     "data": {
      "text/plain": [
       "<sqlite3.Cursor at 0x1707b09f810>"
      ]
     },
     "execution_count": 20,
     "metadata": {},
     "output_type": "execute_result"
    }
   ],
   "source": [
    "cursor.execute(query_majors)"
   ]
  },
  {
   "cell_type": "code",
   "execution_count": 15,
   "id": "3a6d0365",
   "metadata": {},
   "outputs": [],
   "source": [
    "majors = cursor.fetchall()"
   ]
  },
  {
   "cell_type": "code",
   "execution_count": 16,
   "id": "9b579d2d",
   "metadata": {},
   "outputs": [
    {
     "name": "stdout",
     "output_type": "stream",
     "text": [
      "[('PETROLEUM ENGINEERING',), ('MINING AND MINERAL ENGINEERING',), ('METALLURGICAL ENGINEERING',), ('NAVAL ARCHITECTURE AND MARINE ENGINEERING',), ('CHEMICAL ENGINEERING',)]\n"
     ]
    }
   ],
   "source": [
    "print(majors[:5])"
   ]
  },
  {
   "cell_type": "markdown",
   "id": "b0ee02d1",
   "metadata": {},
   "source": [
    "### Chercher un certain nombre de résultats"
   ]
  },
  {
   "cell_type": "code",
   "execution_count": 21,
   "id": "401c6635",
   "metadata": {},
   "outputs": [],
   "source": [
    "first_element = cursor.fetchone()"
   ]
  },
  {
   "cell_type": "code",
   "execution_count": 22,
   "id": "64cb8f02",
   "metadata": {},
   "outputs": [],
   "source": [
    "second_element = cursor.fetchone()"
   ]
  },
  {
   "cell_type": "code",
   "execution_count": 23,
   "id": "0d4e8372",
   "metadata": {},
   "outputs": [
    {
     "name": "stdout",
     "output_type": "stream",
     "text": [
      "('PETROLEUM ENGINEERING',)\n",
      "('MINING AND MINERAL ENGINEERING',)\n"
     ]
    }
   ],
   "source": [
    "print(first_element)\n",
    "print(second_element)"
   ]
  },
  {
   "cell_type": "markdown",
   "id": "050c5de3",
   "metadata": {},
   "source": [
    "### Stopper la connexion à la BDD pour permettre à quelqu'un d'autre d'y accéder"
   ]
  },
  {
   "cell_type": "code",
   "execution_count": 24,
   "id": "6f927b77",
   "metadata": {},
   "outputs": [],
   "source": [
    "connexion.close()"
   ]
  },
  {
   "cell_type": "code",
   "execution_count": null,
   "id": "b07003f6",
   "metadata": {},
   "outputs": [],
   "source": []
  }
 ],
 "metadata": {
  "kernelspec": {
   "display_name": "Python 3",
   "language": "python",
   "name": "python3"
  },
  "language_info": {
   "codemirror_mode": {
    "name": "ipython",
    "version": 3
   },
   "file_extension": ".py",
   "mimetype": "text/x-python",
   "name": "python",
   "nbconvert_exporter": "python",
   "pygments_lexer": "ipython3",
   "version": "3.8.8"
  }
 },
 "nbformat": 4,
 "nbformat_minor": 5
}
